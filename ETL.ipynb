{
 "cells": [
  {
   "attachments": {},
   "cell_type": "markdown",
   "metadata": {},
   "source": [
    "# ETL"
   ]
  },
  {
   "attachments": {},
   "cell_type": "markdown",
   "metadata": {},
   "source": [
    "## Importar las librerías necesarias."
   ]
  },
  {
   "cell_type": "code",
   "execution_count": 1,
   "metadata": {},
   "outputs": [],
   "source": [
    "import pandas as pd \n",
    "import numpy as np\n",
    "from datetime import datetime"
   ]
  },
  {
   "attachments": {},
   "cell_type": "markdown",
   "metadata": {},
   "source": [
    "## Cargar los datos"
   ]
  },
  {
   "cell_type": "code",
   "execution_count": 2,
   "metadata": {},
   "outputs": [
    {
     "data": {
      "text/html": [
       "<div>\n",
       "<style scoped>\n",
       "    .dataframe tbody tr th:only-of-type {\n",
       "        vertical-align: middle;\n",
       "    }\n",
       "\n",
       "    .dataframe tbody tr th {\n",
       "        vertical-align: top;\n",
       "    }\n",
       "\n",
       "    .dataframe thead th {\n",
       "        text-align: right;\n",
       "    }\n",
       "</style>\n",
       "<table border=\"1\" class=\"dataframe\">\n",
       "  <thead>\n",
       "    <tr style=\"text-align: right;\">\n",
       "      <th></th>\n",
       "      <th>Unnamed: 0</th>\n",
       "      <th>fecha</th>\n",
       "      <th>HORA declarada</th>\n",
       "      <th>Ruta</th>\n",
       "      <th>OperadOR</th>\n",
       "      <th>flight_no</th>\n",
       "      <th>route</th>\n",
       "      <th>ac_type</th>\n",
       "      <th>registration</th>\n",
       "      <th>cn_ln</th>\n",
       "      <th>all_aboard</th>\n",
       "      <th>PASAJEROS A BORDO</th>\n",
       "      <th>crew_aboard</th>\n",
       "      <th>cantidad de fallecidos</th>\n",
       "      <th>passenger_fatalities</th>\n",
       "      <th>crew_fatalities</th>\n",
       "      <th>ground</th>\n",
       "      <th>summary</th>\n",
       "    </tr>\n",
       "  </thead>\n",
       "  <tbody>\n",
       "    <tr>\n",
       "      <th>1128</th>\n",
       "      <td>1128</td>\n",
       "      <td>August 09, 1949</td>\n",
       "      <td>?</td>\n",
       "      <td>Salalah, Oman</td>\n",
       "      <td>Military - Royal Air Force</td>\n",
       "      <td>?</td>\n",
       "      <td>?</td>\n",
       "      <td>Douglas C-47B</td>\n",
       "      <td>KN336</td>\n",
       "      <td>15901/32649</td>\n",
       "      <td>12</td>\n",
       "      <td>?</td>\n",
       "      <td>?</td>\n",
       "      <td>12</td>\n",
       "      <td>?</td>\n",
       "      <td>?</td>\n",
       "      <td>0</td>\n",
       "      <td>Crashed short of the runway.</td>\n",
       "    </tr>\n",
       "  </tbody>\n",
       "</table>\n",
       "</div>"
      ],
      "text/plain": [
       "      Unnamed: 0            fecha HORA declarada           Ruta   \n",
       "1128        1128  August 09, 1949              ?  Salalah, Oman  \\\n",
       "\n",
       "                        OperadOR flight_no route        ac_type registration   \n",
       "1128  Military - Royal Air Force         ?     ?  Douglas C-47B        KN336  \\\n",
       "\n",
       "            cn_ln all_aboard PASAJEROS A BORDO crew_aboard   \n",
       "1128  15901/32649         12                 ?           ?  \\\n",
       "\n",
       "     cantidad de fallecidos passenger_fatalities crew_fatalities ground   \n",
       "1128                     12                    ?               ?      0  \\\n",
       "\n",
       "                           summary  \n",
       "1128  Crashed short of the runway.  "
      ]
     },
     "execution_count": 2,
     "metadata": {},
     "output_type": "execute_result"
    }
   ],
   "source": [
    "df = pd.read_csv('AccidentesAviones.csv')\n",
    "df.sample(1)"
   ]
  },
  {
   "attachments": {},
   "cell_type": "markdown",
   "metadata": {},
   "source": [
    "### **Diccionario de datos:**\n",
    "- ***Unnamed: 0:*** Número de identificación o índice para cada registro de accidente de vuelo\n",
    "- ***fecha:*** Fecha en la que ocurrió el accidente de vuelo\n",
    "- ***HORA declarada:*** Hora declarada del accidente aéreo\n",
    "- ***Ruta:*** Ubicación geográfica donde ocurrió el accidente de vuelo\n",
    "- ***OperadOR:*** Compañía aérea operadora del vuelo\n",
    "- ***flight_no:*** Número de vuelo\n",
    "- ***route:*** Ruta del vuelo, indicando los puntos de partida y destino\n",
    "- ***ac_type:*** Tipo de aeronave involucrada en el accidente\n",
    "- ***registration:*** Número de registro o matrícula de la aeronave\n",
    "- ***cn_ln:*** Número de serie de la aeronave\n",
    "- ***all_aboard:*** Total de personas a bordo (pasajeros y tripulación)\n",
    "- ***PASAJEROS A BORDO:*** Total de pasajeros a bordo\n",
    "- ***crew_aboard:*** Total de tripulación a bordo\n",
    "- ***cantidad de fallecidos:*** Total de personas fallecidas en el accidente (pasajeros y tripulación)\n",
    "- ***passenger_fatalities:*** Total de pasajeros fallecidos en el accidente\n",
    "- ***crew_fatalities:*** Total de tripulantes fallecidos en el accidente\n",
    "- ***ground:*** Total de personas en tierra fallecidas en el accidente\n",
    "- ***summary:*** Resumen del accidente de vuelo y las circunstancias asociadas"
   ]
  },
  {
   "attachments": {},
   "cell_type": "markdown",
   "metadata": {},
   "source": [
    "## Transformaciones"
   ]
  },
  {
   "attachments": {},
   "cell_type": "markdown",
   "metadata": {},
   "source": [
    "### Cambiamos el tipo de dato de cada columna según su variable."
   ]
  },
  {
   "cell_type": "code",
   "execution_count": 4,
   "metadata": {},
   "outputs": [],
   "source": [
    "# Colummna: 'fecha'\n",
    "df['fecha'] = pd.to_datetime(df['fecha'])  # Cambiar a tipo de datos fecha"
   ]
  },
  {
   "cell_type": "code",
   "execution_count": 6,
   "metadata": {},
   "outputs": [],
   "source": [
    "# Colummna: 'HORA declarada'\n",
    "def parse_hour(x):\n",
    "    if x is None:\n",
    "        return None\n",
    "    if x.startswith('c '):\n",
    "        x = x[2:]  # Eliminar el prefijo 'c '\n",
    "    try:\n",
    "        if len(x) == 4:\n",
    "            return datetime.strptime(x, \"%H%M\").strftime(\"%H:%M\")\n",
    "        else:\n",
    "            return datetime.strptime(x[:-1], \"%H:%M\").strftime(\"%H:%M\")\n",
    "    except ValueError:\n",
    "        return None\n",
    "\n",
    "def convert_to_time(x):\n",
    "    if x is None:\n",
    "        return None\n",
    "    if x.startswith('c '):\n",
    "        x = x[2:]  # Eliminar el prefijo 'c '\n",
    "    try:\n",
    "        return datetime.strptime(x[:-1], \"%H:%M\").strftime(\"%H:%M\")\n",
    "    except ValueError:\n",
    "        return None\n",
    "\n",
    "def remove_z_from_time(x):\n",
    "    if x is None:\n",
    "        return None\n",
    "    if x.endswith('Z'):\n",
    "        return x[:-1]\n",
    "    else:\n",
    "        return x\n",
    "\n",
    "def remove_c_prefix(x):\n",
    "    if x is None:\n",
    "        return None\n",
    "    if x.startswith('c '):\n",
    "        return x[2:]\n",
    "    else:\n",
    "        return x\n",
    "\n",
    "# Aplicar parse_hour y convert_to_time a los valores incorrectos\n",
    "mask = df['HORA declarada'].apply(parse_hour).isna()\n",
    "df.loc[mask, 'HORA declarada'] = df.loc[mask, 'HORA declarada'].apply(convert_to_time)\n",
    "\n",
    "# Asegurar que los valores en 'HORA declarada' tengan el formato HH:MM\n",
    "df['HORA declarada'] = df['HORA declarada'].apply(lambda x: x[:2] + ':' + x[2:] if x is not None and len(x) == 4 else x)\n",
    "\n",
    "# Remover 'Z' anidada de los valores\n",
    "df['HORA declarada'] = df['HORA declarada'].apply(remove_z_from_time)\n",
    "\n",
    "# Eliminar el prefijo 'c ' de los valores\n",
    "df['HORA declarada'] = df['HORA declarada'].apply(remove_c_prefix)\n",
    "\n",
    "# convierte la columna \"HORA declarada\" en formato de texto a formato de fecha y hora\n",
    "df['HORA declarada'] = pd.to_datetime(df['HORA declarada'], format='%H:%M', errors='coerce')\n",
    "\n",
    "# Extraemos la hora y lo guarda en la columna \"HORA declarada\" como un número entero\n",
    "df['HORA declarada'] = df['HORA declarada'].apply(lambda x: x.hour if pd.notnull(x) else None)"
   ]
  },
  {
   "cell_type": "code",
   "execution_count": 7,
   "metadata": {},
   "outputs": [],
   "source": [
    "# Colummna: 'Ruta'\n",
    "# Etiquetar los datos '?' en la columna de 'Ruta' como 'NaN'\n",
    "#df.loc[df['Ruta'] == '?', 'Ruta'] = np.nan\n",
    "df['Ruta'] = df['Ruta'].replace('?', pd.NA)"
   ]
  },
  {
   "cell_type": "code",
   "execution_count": 8,
   "metadata": {},
   "outputs": [],
   "source": [
    "# Colummna: 'OperadOR'\n",
    "# Etiquetar los datos '?' en la columna de 'OperadOR' como 'NaN'\n",
    "#df.loc[df['OperadOR'] == '?', 'OperadOR'] = np.nan\n",
    "df['OperadOR'] = df['OperadOR'].replace('?', pd.NA)"
   ]
  },
  {
   "cell_type": "code",
   "execution_count": 9,
   "metadata": {},
   "outputs": [],
   "source": [
    "# Colummna: 'flight_no'\n",
    "df['flight_no'] = df['flight_no'].replace('?', pd.NA) "
   ]
  },
  {
   "cell_type": "code",
   "execution_count": 10,
   "metadata": {},
   "outputs": [],
   "source": [
    "# Colummna: 'route'\n",
    "df['route'] = df['route'].replace('?', pd.NA)\n",
    "df['route'] = df['route'].where(df['route'].str.contains('-'), other=pd.NA)"
   ]
  },
  {
   "cell_type": "code",
   "execution_count": 11,
   "metadata": {},
   "outputs": [],
   "source": [
    "# Colummna: 'ac_type'\n",
    "df['ac_type'] = df['ac_type'].replace('?', pd.NA)\n",
    "df['ac_type'] = df['ac_type'].replace('Unknown / Unknown', pd.NA)"
   ]
  },
  {
   "cell_type": "code",
   "execution_count": 12,
   "metadata": {},
   "outputs": [],
   "source": [
    "# Colummna: 'registration'\n",
    "df['registration'] = df['registration'].replace('?', pd.NA)"
   ]
  },
  {
   "cell_type": "code",
   "execution_count": 13,
   "metadata": {},
   "outputs": [],
   "source": [
    "# Colummna: 'cn_ln'\n",
    "df['cn_ln'] = df['cn_ln'].replace('?', pd.NA)"
   ]
  },
  {
   "cell_type": "code",
   "execution_count": 14,
   "metadata": {},
   "outputs": [],
   "source": [
    "# Colummna: 'all_aboard'\n",
    "df['all_aboard'] = pd.to_numeric(df['all_aboard'], errors='coerce')"
   ]
  },
  {
   "cell_type": "code",
   "execution_count": 15,
   "metadata": {},
   "outputs": [],
   "source": [
    "# Colummna: 'PASAJEROS A BORDO'\n",
    "df['PASAJEROS A BORDO'] = pd.to_numeric(df['PASAJEROS A BORDO'], errors='coerce')  # Cambiar a tipo de dato entero y manejar los valores no numéricos"
   ]
  },
  {
   "cell_type": "code",
   "execution_count": 16,
   "metadata": {},
   "outputs": [],
   "source": [
    "# Colummna: 'crew_aboard'\n",
    "df['crew_aboard'] = pd.to_numeric(df['crew_aboard'], errors='coerce')  # Cambiar a tipo de dato entero y manejar los valores no numéricos"
   ]
  },
  {
   "cell_type": "code",
   "execution_count": 17,
   "metadata": {},
   "outputs": [],
   "source": [
    "# Colummna: 'cantidad de fallecidos'\n",
    "df['cantidad de fallecidos'] = pd.to_numeric(df['cantidad de fallecidos'], errors='coerce')  # Cambiar a tipo de dato entero y manejar los valores no numéricos"
   ]
  },
  {
   "cell_type": "code",
   "execution_count": 18,
   "metadata": {},
   "outputs": [],
   "source": [
    "# Colummna: 'passenger_fatalities'\n",
    "df['passenger_fatalities'] = pd.to_numeric(df['cantidad de fallecidos'], errors='coerce')  # Cambiar a tipo de dato entero y manejar los valores no numéricos"
   ]
  },
  {
   "cell_type": "code",
   "execution_count": 19,
   "metadata": {},
   "outputs": [],
   "source": [
    "# Colummna: 'crew_fatalities'\n",
    "df['crew_fatalities'] = pd.to_numeric(df['crew_fatalities'], errors='coerce')  # Cambiar a tipo de dato entero y manejar los valores no numéricos"
   ]
  },
  {
   "cell_type": "code",
   "execution_count": 20,
   "metadata": {},
   "outputs": [],
   "source": [
    "# Colummna: 'ground'\n",
    "df['ground'] = pd.to_numeric(df['ground'], errors='coerce')  # Cambiar a tipo de dato entero y manejar los valores no numéricos"
   ]
  },
  {
   "cell_type": "code",
   "execution_count": 21,
   "metadata": {},
   "outputs": [],
   "source": [
    "# Colummna: 'summary'\n",
    "df['summary'] = df['summary'].replace('?', pd.NA)"
   ]
  },
  {
   "cell_type": "code",
   "execution_count": 24,
   "metadata": {},
   "outputs": [],
   "source": [
    "# Exportamos a un dataset final de nombre 'accidentes_etl' para el EDA\n",
    "df.to_csv('accidentes_etl.csv', index=False)"
   ]
  }
 ],
 "metadata": {
  "kernelspec": {
   "display_name": "Python 3",
   "language": "python",
   "name": "python3"
  },
  "language_info": {
   "codemirror_mode": {
    "name": "ipython",
    "version": 3
   },
   "file_extension": ".py",
   "mimetype": "text/x-python",
   "name": "python",
   "nbconvert_exporter": "python",
   "pygments_lexer": "ipython3",
   "version": "3.11.3"
  },
  "orig_nbformat": 4
 },
 "nbformat": 4,
 "nbformat_minor": 2
}
